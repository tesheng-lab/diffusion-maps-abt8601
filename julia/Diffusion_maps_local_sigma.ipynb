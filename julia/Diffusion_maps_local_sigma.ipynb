{
 "cells": [
  {
   "cell_type": "markdown",
   "metadata": {},
   "source": [
    "# Diffusion maps with local sigma\n",
    "\n",
    "* Modified from [Diffusion-Maps-in-Julia](https://github.com/chingruchung/Diffusion-Maps-in-Julia) by Ching-Ru Chung.\n",
    "* Change package `PyPlot` to `Plots`\n",
    "* Choose sigma as the local one\n",
    "\n",
    "#### Author: Te-Sheng Lin, 2020"
   ]
  },
  {
   "cell_type": "code",
   "execution_count": null,
   "metadata": {},
   "outputs": [],
   "source": [
    "using LinearAlgebra\n",
    "using MAT\n",
    "using Plots\n",
    "using Statistics\n",
    "using Clustering\n",
    "using Arpack"
   ]
  },
  {
   "cell_type": "markdown",
   "metadata": {},
   "source": [
    "## 1. Read Data\n",
    "\n",
    "Given a data set $X=\\{x_1,...,x_n\\} \\in \\mathbb{R}^d, \\, d\\ge 2$. \n",
    "\n",
    "Data stored in \"Data.mat\" with variable named \"data\"."
   ]
  },
  {
   "cell_type": "code",
   "execution_count": null,
   "metadata": {},
   "outputs": [],
   "source": [
    "file = matread(\"Data2.mat\");\n",
    "X = file[\"data\"];\n",
    "\n",
    "# Visualize the first two dimension of the data\n",
    "scatter(X[:,1], X[:,2], aspect_ratio=:equal, leg=false)"
   ]
  },
  {
   "cell_type": "markdown",
   "metadata": {},
   "source": [
    "## 2. Define a distance matrix $E$\n",
    "\n",
    "Let $E$ be the square root of the Euclidean distance matrix ([EDM](https://en.wikipedia.org/wiki/Euclidean_distance_matrix)) with entries \n",
    "\n",
    "$$ E_{ij}=\\| x_{i}-x_{j}\\|_2 $$"
   ]
  },
  {
   "cell_type": "code",
   "execution_count": null,
   "metadata": {},
   "outputs": [],
   "source": [
    "# input: X - data points\n",
    "# output: E - distance matrix\n",
    "#\n",
    "function get_E(X)\n",
    "    n = size(X,1); # number of points\n",
    "    E = zeros(n,n); # the diagonal entries are 0\n",
    "    \n",
    "    for ii=1:n\n",
    "        for jj=ii+1:n\n",
    "            E[ii,jj] = norm(X[ii,:] - X[jj,:]);\n",
    "            E[jj,ii] = E[ii,jj];\n",
    "        end\n",
    "    end\n",
    "    \n",
    "    return E;\n",
    "end"
   ]
  },
  {
   "cell_type": "code",
   "execution_count": null,
   "metadata": {},
   "outputs": [],
   "source": [
    "# get the distance matrix D\n",
    "E = get_E(X);"
   ]
  },
  {
   "cell_type": "markdown",
   "metadata": {},
   "source": [
    "## 3. Define a kernel matrix $K$\n",
    "\n",
    "Let $K$ be a kernel matrix with entries $ K_{ij}=k(x_{i},x_{j}) $, where $k$ is the Guassian kernel\n",
    "$$ k(x,y) = e^{-\\frac{\\lVert x-y \\rVert^2}{\\sigma_i\\sigma_j}}, $$\n",
    "and $\\sigma_i$ is a $7$th smallest value in the neighbor of a given point."
   ]
  },
  {
   "cell_type": "code",
   "execution_count": null,
   "metadata": {},
   "outputs": [],
   "source": [
    "# evaluate sigma\n",
    "E_sort = sort(E, dims=2);\n",
    "\n",
    "k = 7;\n",
    "sigma_loc = E_sort[:, k+1];"
   ]
  },
  {
   "cell_type": "code",
   "execution_count": null,
   "metadata": {},
   "outputs": [],
   "source": [
    "# input 1: E - distance matrix\n",
    "# input 2: sigma - constant\n",
    "#\n",
    "# output: K - kernal matrix\n",
    "#\n",
    "function get_K(E, sigma_loc)\n",
    "    n = size(E,1);\n",
    "    K = ones(n,n);\n",
    "    \n",
    "    for ii = 1:n\n",
    "        for jj = ii+1:n\n",
    "            K[ii,jj] = exp(-E[ii,jj]^2/(sigma_loc[ii]*sigma_loc[jj]));\n",
    "            K[jj,ii] = K[ii,jj]\n",
    "        end\n",
    "    end\n",
    "    \n",
    "    return K;\n",
    "end"
   ]
  },
  {
   "cell_type": "code",
   "execution_count": null,
   "metadata": {},
   "outputs": [],
   "source": [
    "# get the kernal matrix K\n",
    "K = get_K(E, sigma_loc);"
   ]
  },
  {
   "cell_type": "markdown",
   "metadata": {},
   "source": [
    "## 4. Construct a matrix $Q$ that related to diffusion matrix\n",
    "\n",
    "Diffusion matrix, \n",
    "$$P=D^{-1}K,$$\n",
    "where $D_{ii} = \\sum^n_{j=1} K_{ij}$, is a matrix that describe the connectivity between two data points, which can be consider as the probability of jumping from one point to another in one step of random walk. \n",
    "Consider a matrix $Q$, \n",
    "$$ Q=D^{-\\frac{1}{2}}KD^{-\\frac{1}{2}},$$\n",
    "it can be shown that the eigenvalues of $P$ and $Q$ are exactly the same, while the eigenvectors of $P$ are \n",
    "$$ v = D^{-1/2}v_Q,$$\n",
    "where $v_Q$'s are the eigenvectors of $Q$."
   ]
  },
  {
   "cell_type": "code",
   "execution_count": null,
   "metadata": {},
   "outputs": [],
   "source": [
    "# input: K - kernal matrix\n",
    "#\n",
    "# output 1: Q\n",
    "# output 2: d_sq - sqrt{D}\n",
    "#\n",
    "function get_Q(K)\n",
    "    n = size(K,1);\n",
    "    Q = zeros(n,n);\n",
    "    d_sq = zeros(n);\n",
    "    \n",
    "    # d_sq = sqrt{D}\n",
    "    for ii = 1:n\n",
    "        d_sq[ii] = sqrt(sum(K[ii,:]));\n",
    "    end\n",
    "    \n",
    "    # get components of Q\n",
    "    for ii = 1:n\n",
    "        for jj = 1:n\n",
    "            Q[ii,jj] = K[ii,jj]/(d_sq[ii]*d_sq[jj]);\n",
    "        end\n",
    "    end\n",
    "    \n",
    "    return Q, d_sq;\n",
    "end"
   ]
  },
  {
   "cell_type": "code",
   "execution_count": null,
   "metadata": {},
   "outputs": [],
   "source": [
    "# get Q and d_sq\n",
    "Q, d_sq = get_Q(K);"
   ]
  },
  {
   "cell_type": "markdown",
   "metadata": {},
   "source": [
    "## 5. Find eigenvectors and eigenvalues of the diffusion matrix\n",
    "\n",
    "As we mention earlier,\n",
    ">the eigenvalues of $P$ and $Q$ are exactly the same, while the eigenvectors of $P$ are \n",
    "$$ v = D^{-1/2}v_Q,$$ where $v_Q$'s are the eigenvectors of $Q$."
   ]
  },
  {
   "cell_type": "code",
   "execution_count": null,
   "metadata": {},
   "outputs": [],
   "source": [
    "# input 1: Q\n",
    "# input 2: d_sq - sqrt{D}\n",
    "#\n",
    "# output 1: v - eigenvectors\n",
    "# output 2: s - eigenvalues\n",
    "#\n",
    "function get_eig(Q, d_sq, c)\n",
    "    \n",
    "    n = size(Q, 1);\n",
    "    \n",
    "    S, V = eigs(Q, nev = c+1, which=:LM);\n",
    "\n",
    "     for ii = 1 : n\n",
    "        V[ii,:] = V[ii,:]/d_sq[ii];\n",
    "    end\n",
    "\n",
    "\n",
    "    for ii = 1 : c+1\n",
    "        V[:,ii] = V[:,ii]/norm(V[:,ii]);\n",
    "    end\n",
    "    \n",
    "    return V, S;\n",
    "end"
   ]
  },
  {
   "cell_type": "code",
   "execution_count": null,
   "metadata": {},
   "outputs": [],
   "source": [
    "c = 3; # the desired reduced dimension\n",
    "\n",
    "v, s = get_eig2(Q , d_sq, c);\n",
    "p1 = scatter(s[1:c+1], label=\"eigenvalues 1:c+1\");\n",
    "p2 = plot(log.(s), label=\"eigenvalues in log\");\n",
    "plot(p1, p2, layout=2)"
   ]
  },
  {
   "cell_type": "markdown",
   "metadata": {},
   "source": [
    "## 6. Define a diffusion map \n",
    "\n",
    "Let $Y$ be a diffusion map, which map corrdinates between data and diffusion space, with its column\n",
    "$$Y_i=\n",
    "\\begin{bmatrix}\n",
    "p_t(x_i,x_1) \\\\\n",
    "p_t(x_i,x_2) \\\\\n",
    "\\vdots       \\\\\n",
    "p_t(x_i,x_n) \\\\\n",
    "\\end{bmatrix}\n",
    "= \\left[ \\lambda_i^t v_i \\right] = P_{i}^t.$$"
   ]
  },
  {
   "cell_type": "code",
   "execution_count": null,
   "metadata": {},
   "outputs": [],
   "source": [
    "function get_Y(v, S, c)\n",
    "    \n",
    "    n = size(v,1);\n",
    "    Y = zeros(n,c);\n",
    "    \n",
    "    # get components of diffusion map Y\n",
    "    for ii = 1:c\n",
    "        Y[:,ii] = v[:,ii+1].*S[ii+1];\n",
    "    end\n",
    "    \n",
    "    return Y ;\n",
    "end"
   ]
  },
  {
   "cell_type": "code",
   "execution_count": null,
   "metadata": {},
   "outputs": [],
   "source": [
    "Y = get_Y(v, s, c);\n",
    "\n",
    "# print diffution map\n",
    "p1 = scatter(Y[:,1], Y[:,2], label=\"2D\", aspect_ratio=:equal)\n",
    "p2 = scatter(Y[:,1], Y[:,2], Y[:,3], label=\"3D\", aspect_ratio=:equal)\n",
    "plot(p1, p2, layout=2)"
   ]
  },
  {
   "cell_type": "markdown",
   "metadata": {},
   "source": [
    "## 7. K-means Clustering\n",
    "\n",
    "Using k-means method to get the labeling of the datas, here cluster is a manually select number of groups."
   ]
  },
  {
   "cell_type": "code",
   "execution_count": null,
   "metadata": {},
   "outputs": [],
   "source": [
    "cluster = 3;\n",
    "R = kmeans(transpose(Y), cluster; maxiter=200, display=:iter);\n",
    "group = assignments(R); # get the assignments of points to clusters\n",
    "center = transpose(R.centers); # get the cluster centers"
   ]
  },
  {
   "cell_type": "markdown",
   "metadata": {},
   "source": [
    "Visualize the results of k-mean"
   ]
  },
  {
   "cell_type": "code",
   "execution_count": null,
   "metadata": {},
   "outputs": [],
   "source": [
    "scatter(Y[:,1] , Y[:,2] , Y[:,3], markersize=:2, label=\"data points\")\n",
    "scatter!(center[:,1] , center[:,2] , center[:,3], markercolor=:red, markersize=:5, label=\"k-mean centers\")"
   ]
  },
  {
   "cell_type": "markdown",
   "metadata": {},
   "source": [
    "## 8. Show the result\n",
    "\n",
    "visualize the results of clustering"
   ]
  },
  {
   "cell_type": "code",
   "execution_count": null,
   "metadata": {},
   "outputs": [],
   "source": [
    "# select the color\n",
    "dict = Dict(1 => \"red\" , 2 => \"green\" , 3 => \"blue\" , 4 => \"black\" , 5 => \"brown\" , 6 => \"cyan\" , 7 => \"orange\") ;\n",
    "color_group = Array{String}(undef, size(group , 1));\n",
    "for ii = 1 : size(group , 1)\n",
    "    color_group[ii] = dict[group[ii]];\n",
    "end\n",
    "\n",
    "# print\n",
    "scatter(X[:,1] , X[:,2], c = color_group, leg=false, aspect_ratio=:equal)"
   ]
  },
  {
   "cell_type": "code",
   "execution_count": null,
   "metadata": {},
   "outputs": [],
   "source": []
  }
 ],
 "metadata": {
  "@webio": {
   "lastCommId": null,
   "lastKernelId": null
  },
  "kernelspec": {
   "display_name": "Julia 1.3.1",
   "language": "julia",
   "name": "julia-1.3"
  },
  "language_info": {
   "file_extension": ".jl",
   "mimetype": "application/julia",
   "name": "julia",
   "version": "1.3.1"
  }
 },
 "nbformat": 4,
 "nbformat_minor": 4
}
